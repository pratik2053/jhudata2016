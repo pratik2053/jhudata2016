{
 "cells": [
  {
   "cell_type": "markdown",
   "metadata": {},
   "source": [
    "### Python Functions -MAP, FILTER, AND FUNCTOOLS.REDUCE"
   ]
  },
  {
   "cell_type": "markdown",
   "metadata": {},
   "source": [
    "### Python provides covenience feature which enables functional approach to programming.\n",
    "\n"
   ]
  },
  {
   "cell_type": "markdown",
   "metadata": {},
   "source": [
    "<b>Functional Programmming </b> is all about expressions. We may say that \n",
    "functional programming is an expression orientd programming.\n",
    "\n",
    "Expression oriented functions of Python provides are:\n",
    "1.map (afunc,aSeq)\n",
    "\n",
    "2.filter(afunc,aSeq)\n",
    "\n",
    "3.reduce(aFunc,aSeq)\n",
    "\n",
    "4.Lambda\n",
    "\n",
    "5.List Comprehension\n",
    "\n"
   ]
  },
  {
   "cell_type": "code",
   "execution_count": 2,
   "metadata": {},
   "outputs": [
    {
     "data": {
      "text/plain": [
       "[1, 4, 9, 16, 25]"
      ]
     },
     "execution_count": 2,
     "metadata": {},
     "output_type": "execute_result"
    }
   ],
   "source": [
    "#MAP\n",
    "#One of the common things we do with lies and other sequences is applying \n",
    "# an operation to each item and collect the result.\n",
    "\n",
    "#For eg. updating all the items in a list can be done easily with a for loop:\n",
    "\n",
    "items = [1,2,3,4,5]\n",
    "squared = []\n",
    "for x in items:\n",
    "    squared.append(x**2)\n",
    "squared\n",
    "\n",
    "\n",
    "# Since this is such a common operation, actually, we have a built-in feature\n",
    "# that does most of the work for us.\n",
    "\n",
    "#The map(afunc,aSeq) function applies a passed-in function to each item in an\n",
    "#iterable objects and returns a list containing all the funtion call results.\n",
    "\n",
    "\n",
    "items = [1,2,3,4,5]\n",
    "def sqr(x): return x**2\n",
    "\n",
    "list(map(sqr,items))"
   ]
  },
  {
   "cell_type": "code",
   "execution_count": 4,
   "metadata": {},
   "outputs": [
    {
     "data": {
      "text/plain": [
       "'\\nBecause map expects a function to be passed in, it also happen to be one of the\\nplaces where lambda routinely appears:\\n'"
      ]
     },
     "execution_count": 4,
     "metadata": {},
     "output_type": "execute_result"
    }
   ],
   "source": [
    "'''\n",
    "We passed in a user-defined function applied to each item in the list.\n",
    "map calls sqr on each list item and collects all the return values into\n",
    "a new list.\n",
    "'''\n",
    "\n",
    "'''\n",
    "Because map expects a function to be passed in, it also happen to be one of the\n",
    "places where lambda routinely appears:\n",
    "'''\n",
    "\n"
   ]
  },
  {
   "cell_type": "code",
   "execution_count": 6,
   "metadata": {},
   "outputs": [
    {
     "data": {
      "text/plain": [
       "[1, 4, 9, 16, 25]"
      ]
     },
     "execution_count": 6,
     "metadata": {},
     "output_type": "execute_result"
    }
   ],
   "source": [
    "list(map((lambda x:x**2),items))\n",
    "\n",
    "# the example above, lambda function squared each item in the items list."
   ]
  },
  {
   "cell_type": "code",
   "execution_count": 19,
   "metadata": {},
   "outputs": [],
   "source": [
    "# While we still use lambda as aFunction, we can have a list of functions\n",
    "# as aSequence\n",
    "\n"
   ]
  },
  {
   "cell_type": "code",
   "execution_count": 20,
   "metadata": {},
   "outputs": [
    {
     "name": "stdout",
     "output_type": "stream",
     "text": [
      "<map object at 0x7f490c61aeb8>\n",
      "<map object at 0x7f490c61abe0>\n",
      "<map object at 0x7f490c61ae10>\n",
      "<map object at 0x7f490c61af60>\n",
      "<map object at 0x7f490c61add8>\n"
     ]
    }
   ],
   "source": [
    "def square(x):\n",
    "        return (x**2)\n",
    "def cube(x):\n",
    "        return (x**3)\n",
    "\n",
    "funcs = [square, cube]\n",
    "for r in range(5):\n",
    "    value = map(lambda x: x(r), funcs)\n",
    "    print (value)"
   ]
  },
  {
   "cell_type": "code",
   "execution_count": 21,
   "metadata": {},
   "outputs": [
    {
     "data": {
      "text/plain": [
       "[1, 4, 9]"
      ]
     },
     "execution_count": 21,
     "metadata": {},
     "output_type": "execute_result"
    }
   ],
   "source": [
    "def mymap(aFunc, aSeq):\n",
    "\tresult = []\n",
    "\tfor x in aSeq: result.append(aFunc(x))\n",
    "\treturn result\n",
    "\n",
    "list(map(sqr, [1, 2, 3]))\n",
    "\n",
    "mymap(sqr, [1, 2, 3])\n",
    "\n"
   ]
  },
  {
   "cell_type": "code",
   "execution_count": null,
   "metadata": {},
   "outputs": [],
   "source": []
  }
 ],
 "metadata": {
  "kernelspec": {
   "display_name": "Python 3",
   "language": "python",
   "name": "python3"
  },
  "language_info": {
   "codemirror_mode": {
    "name": "ipython",
    "version": 3
   },
   "file_extension": ".py",
   "mimetype": "text/x-python",
   "name": "python",
   "nbconvert_exporter": "python",
   "pygments_lexer": "ipython3",
   "version": "3.6.5"
  }
 },
 "nbformat": 4,
 "nbformat_minor": 2
}
